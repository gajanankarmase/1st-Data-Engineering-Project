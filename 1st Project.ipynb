{
 "cells": [
  {
   "cell_type": "code",
   "execution_count": 1,
   "id": "9b5dc2bd",
   "metadata": {},
   "outputs": [],
   "source": [
    "import psycopg2\n",
    "import pandas as pd"
   ]
  },
  {
   "cell_type": "code",
   "execution_count": 24,
   "id": "db2c0cbe",
   "metadata": {},
   "outputs": [],
   "source": [
    "def create_database():\n",
    "    #connect to default db\n",
    "    conn = psycopg2.connect(\"host=localhost dbname=postgres user=postgres password=postgres\")\n",
    "    conn.set_session(autocommit=True)\n",
    "    cur = conn.cursor()\n",
    "    \n",
    "    #creating sparkify database with UTF8 encoding\n",
    "    cur.execute(\"DROP DATABASE IF EXISTS accounts\")\n",
    "    cur.execute(\"CREATE DATABASE accounts\")\n",
    "    \n",
    "    #Close the default database connection\n",
    "    conn.close()\n",
    "    \n",
    "    #connect to sparkify database\n",
    "    conn = psycopg2.connect(\"host=localhost dbname=accounts user=postgres password=postgres\") \n",
    "    cur = conn.cursor()\n",
    "    \n",
    "    return cur,conn"
   ]
  },
  {
   "cell_type": "code",
   "execution_count": 25,
   "id": "56bddca2",
   "metadata": {},
   "outputs": [],
   "source": [
    "def drop_tables(cur, conn):\n",
    "    for query in drop_table_queries:\n",
    "        cur.execute(query)\n",
    "        conn.commit()"
   ]
  },
  {
   "cell_type": "code",
   "execution_count": 26,
   "id": "7091fdb1",
   "metadata": {},
   "outputs": [],
   "source": [
    "def create_tables(cur, conn):\n",
    "    for query in drop_table_queries:\n",
    "        cur.execute(query)\n",
    "        conn.commit()"
   ]
  },
  {
   "cell_type": "code",
   "execution_count": null,
   "id": "d648439b",
   "metadata": {},
   "outputs": [],
   "source": []
  },
  {
   "cell_type": "code",
   "execution_count": 27,
   "id": "1619a599",
   "metadata": {},
   "outputs": [],
   "source": [
    "cur,conn = create_database()"
   ]
  },
  {
   "cell_type": "code",
   "execution_count": 28,
   "id": "25faf91c",
   "metadata": {},
   "outputs": [],
   "source": [
    "lang_code_dataset = pd.read_csv(r\"C:\\Users\\gajju\\Downloads\\Language code dataset\\ietf-language-tags_csv.csv\")"
   ]
  },
  {
   "cell_type": "code",
   "execution_count": 29,
   "id": "153b1bb1",
   "metadata": {},
   "outputs": [],
   "source": [
    "lang_code_dataset = lang_code_dataset[[\"lang\", \"langType\", \"territory\", \"defs\", \"file\"]]"
   ]
  },
  {
   "cell_type": "code",
   "execution_count": 30,
   "id": "fd62e6a0",
   "metadata": {},
   "outputs": [
    {
     "data": {
      "text/html": [
       "<div>\n",
       "<style scoped>\n",
       "    .dataframe tbody tr th:only-of-type {\n",
       "        vertical-align: middle;\n",
       "    }\n",
       "\n",
       "    .dataframe tbody tr th {\n",
       "        vertical-align: top;\n",
       "    }\n",
       "\n",
       "    .dataframe thead th {\n",
       "        text-align: right;\n",
       "    }\n",
       "</style>\n",
       "<table border=\"1\" class=\"dataframe\">\n",
       "  <thead>\n",
       "    <tr style=\"text-align: right;\">\n",
       "      <th></th>\n",
       "      <th>lang</th>\n",
       "      <th>langType</th>\n",
       "      <th>territory</th>\n",
       "      <th>defs</th>\n",
       "      <th>file</th>\n",
       "    </tr>\n",
       "  </thead>\n",
       "  <tbody>\n",
       "    <tr>\n",
       "      <th>0</th>\n",
       "      <td>af</td>\n",
       "      <td>af</td>\n",
       "      <td>NaN</td>\n",
       "      <td>10</td>\n",
       "      <td>af.xml</td>\n",
       "    </tr>\n",
       "    <tr>\n",
       "      <th>1</th>\n",
       "      <td>af-NA</td>\n",
       "      <td>af</td>\n",
       "      <td>NaN</td>\n",
       "      <td>2</td>\n",
       "      <td>af_NA.xml</td>\n",
       "    </tr>\n",
       "    <tr>\n",
       "      <th>2</th>\n",
       "      <td>af-ZA</td>\n",
       "      <td>af</td>\n",
       "      <td>ZA</td>\n",
       "      <td>0</td>\n",
       "      <td>af_ZA.xml</td>\n",
       "    </tr>\n",
       "    <tr>\n",
       "      <th>3</th>\n",
       "      <td>agq</td>\n",
       "      <td>agq</td>\n",
       "      <td>NaN</td>\n",
       "      <td>6</td>\n",
       "      <td>agq.xml</td>\n",
       "    </tr>\n",
       "    <tr>\n",
       "      <th>4</th>\n",
       "      <td>agq-CM</td>\n",
       "      <td>agq</td>\n",
       "      <td>CM</td>\n",
       "      <td>0</td>\n",
       "      <td>agq_CM.xml</td>\n",
       "    </tr>\n",
       "  </tbody>\n",
       "</table>\n",
       "</div>"
      ],
      "text/plain": [
       "     lang langType territory  defs        file\n",
       "0      af       af       NaN    10      af.xml\n",
       "1   af-NA       af       NaN     2   af_NA.xml\n",
       "2   af-ZA       af        ZA     0   af_ZA.xml\n",
       "3     agq      agq       NaN     6     agq.xml\n",
       "4  agq-CM      agq        CM     0  agq_CM.xml"
      ]
     },
     "execution_count": 30,
     "metadata": {},
     "output_type": "execute_result"
    }
   ],
   "source": [
    "lang_code_dataset.head()"
   ]
  },
  {
   "cell_type": "code",
   "execution_count": 31,
   "id": "14fc348e",
   "metadata": {},
   "outputs": [],
   "source": [
    "language_codes_three_b_two = pd.read_csv(r\"C:\\Users\\gajju\\Downloads\\Language code dataset\\language-codes-3b2_csv.csv\")"
   ]
  },
  {
   "cell_type": "code",
   "execution_count": 32,
   "id": "0fbd548b",
   "metadata": {},
   "outputs": [
    {
     "data": {
      "text/html": [
       "<div>\n",
       "<style scoped>\n",
       "    .dataframe tbody tr th:only-of-type {\n",
       "        vertical-align: middle;\n",
       "    }\n",
       "\n",
       "    .dataframe tbody tr th {\n",
       "        vertical-align: top;\n",
       "    }\n",
       "\n",
       "    .dataframe thead th {\n",
       "        text-align: right;\n",
       "    }\n",
       "</style>\n",
       "<table border=\"1\" class=\"dataframe\">\n",
       "  <thead>\n",
       "    <tr style=\"text-align: right;\">\n",
       "      <th></th>\n",
       "      <th>alpha3-b</th>\n",
       "      <th>alpha2</th>\n",
       "      <th>English</th>\n",
       "    </tr>\n",
       "  </thead>\n",
       "  <tbody>\n",
       "    <tr>\n",
       "      <th>0</th>\n",
       "      <td>aar</td>\n",
       "      <td>aa</td>\n",
       "      <td>Afar</td>\n",
       "    </tr>\n",
       "    <tr>\n",
       "      <th>1</th>\n",
       "      <td>abk</td>\n",
       "      <td>ab</td>\n",
       "      <td>Abkhazian</td>\n",
       "    </tr>\n",
       "    <tr>\n",
       "      <th>2</th>\n",
       "      <td>afr</td>\n",
       "      <td>af</td>\n",
       "      <td>Afrikaans</td>\n",
       "    </tr>\n",
       "    <tr>\n",
       "      <th>3</th>\n",
       "      <td>aka</td>\n",
       "      <td>ak</td>\n",
       "      <td>Akan</td>\n",
       "    </tr>\n",
       "    <tr>\n",
       "      <th>4</th>\n",
       "      <td>alb</td>\n",
       "      <td>sq</td>\n",
       "      <td>Albanian</td>\n",
       "    </tr>\n",
       "  </tbody>\n",
       "</table>\n",
       "</div>"
      ],
      "text/plain": [
       "  alpha3-b alpha2    English\n",
       "0      aar     aa       Afar\n",
       "1      abk     ab  Abkhazian\n",
       "2      afr     af  Afrikaans\n",
       "3      aka     ak       Akan\n",
       "4      alb     sq   Albanian"
      ]
     },
     "execution_count": 32,
     "metadata": {},
     "output_type": "execute_result"
    }
   ],
   "source": [
    "language_codes_three_b_two.head()"
   ]
  },
  {
   "cell_type": "code",
   "execution_count": 33,
   "id": "c75ef040",
   "metadata": {},
   "outputs": [],
   "source": [
    "language_codes_full = pd.read_csv(r\"C:\\Users\\gajju\\Downloads\\Language code dataset\\language-codes-full_csv.csv\")"
   ]
  },
  {
   "cell_type": "code",
   "execution_count": 34,
   "id": "94d52017",
   "metadata": {},
   "outputs": [
    {
     "data": {
      "text/html": [
       "<div>\n",
       "<style scoped>\n",
       "    .dataframe tbody tr th:only-of-type {\n",
       "        vertical-align: middle;\n",
       "    }\n",
       "\n",
       "    .dataframe tbody tr th {\n",
       "        vertical-align: top;\n",
       "    }\n",
       "\n",
       "    .dataframe thead th {\n",
       "        text-align: right;\n",
       "    }\n",
       "</style>\n",
       "<table border=\"1\" class=\"dataframe\">\n",
       "  <thead>\n",
       "    <tr style=\"text-align: right;\">\n",
       "      <th></th>\n",
       "      <th>alpha3-b</th>\n",
       "      <th>alpha3-t</th>\n",
       "      <th>alpha2</th>\n",
       "      <th>English</th>\n",
       "      <th>French</th>\n",
       "    </tr>\n",
       "  </thead>\n",
       "  <tbody>\n",
       "    <tr>\n",
       "      <th>0</th>\n",
       "      <td>aar</td>\n",
       "      <td>NaN</td>\n",
       "      <td>aa</td>\n",
       "      <td>Afar</td>\n",
       "      <td>afar</td>\n",
       "    </tr>\n",
       "    <tr>\n",
       "      <th>1</th>\n",
       "      <td>abk</td>\n",
       "      <td>NaN</td>\n",
       "      <td>ab</td>\n",
       "      <td>Abkhazian</td>\n",
       "      <td>abkhaze</td>\n",
       "    </tr>\n",
       "    <tr>\n",
       "      <th>2</th>\n",
       "      <td>ace</td>\n",
       "      <td>NaN</td>\n",
       "      <td>NaN</td>\n",
       "      <td>Achinese</td>\n",
       "      <td>aceh</td>\n",
       "    </tr>\n",
       "    <tr>\n",
       "      <th>3</th>\n",
       "      <td>ach</td>\n",
       "      <td>NaN</td>\n",
       "      <td>NaN</td>\n",
       "      <td>Acoli</td>\n",
       "      <td>acoli</td>\n",
       "    </tr>\n",
       "    <tr>\n",
       "      <th>4</th>\n",
       "      <td>ada</td>\n",
       "      <td>NaN</td>\n",
       "      <td>NaN</td>\n",
       "      <td>Adangme</td>\n",
       "      <td>adangme</td>\n",
       "    </tr>\n",
       "  </tbody>\n",
       "</table>\n",
       "</div>"
      ],
      "text/plain": [
       "  alpha3-b alpha3-t alpha2    English   French\n",
       "0      aar      NaN     aa       Afar     afar\n",
       "1      abk      NaN     ab  Abkhazian  abkhaze\n",
       "2      ace      NaN    NaN   Achinese     aceh\n",
       "3      ach      NaN    NaN      Acoli    acoli\n",
       "4      ada      NaN    NaN    Adangme  adangme"
      ]
     },
     "execution_count": 34,
     "metadata": {},
     "output_type": "execute_result"
    }
   ],
   "source": [
    "language_codes_full.head()"
   ]
  },
  {
   "cell_type": "code",
   "execution_count": null,
   "id": "767b1912",
   "metadata": {},
   "outputs": [],
   "source": []
  },
  {
   "cell_type": "code",
   "execution_count": 35,
   "id": "4f5505fd",
   "metadata": {},
   "outputs": [],
   "source": [
    "lang_code_t1 = (\"\"\"CREATE TABLE IF NOT EXISTS lang_code_dataset (\n",
    "               lang VARCHAR PRIMARY KEY, \n",
    "               langType VARCHAR,\n",
    "               territory VARCHAR,\n",
    "               defs INT,\n",
    "               file VARCHAR)\"\"\")\n",
    "\n",
    "cur.execute(lang_code_t1)\n",
    "conn.commit()"
   ]
  },
  {
   "cell_type": "code",
   "execution_count": 36,
   "id": "56a4b46e",
   "metadata": {},
   "outputs": [],
   "source": [
    "lang_code_t2 = (\"\"\"CREATE TABLE IF NOT EXISTS language_codes_three_b_two (\n",
    "               alpha_thri_b VARCHAR PRIMARY KEY, \n",
    "               alpha_two VARCHAR,\n",
    "               English VARCHAR);\"\"\")\n",
    "\n",
    "cur.execute(lang_code_t2)\n",
    "conn.commit()"
   ]
  },
  {
   "cell_type": "code",
   "execution_count": 37,
   "id": "af363ce3",
   "metadata": {},
   "outputs": [],
   "source": [
    "lang_code_t3 = (\"\"\"CREATE TABLE IF NOT EXISTS language_codes_full (\n",
    "               alpha_three_b VARCHAR PRIMARY KEY, \n",
    "               alpha_thri_t VARCHAR,\n",
    "               alpha_two VARCHAR,\n",
    "               English VARCHAR,\n",
    "               French VARCHAR);\"\"\")\n",
    "\n",
    "cur.execute(lang_code_t3)\n",
    "conn.commit()"
   ]
  },
  {
   "cell_type": "code",
   "execution_count": 38,
   "id": "53cc7f83",
   "metadata": {},
   "outputs": [],
   "source": [
    "lang_code_t1_insert = (\"\"\"INSERT INTO lang_code_dataset(\n",
    "lang, \n",
    "langType,\n",
    "territory,\n",
    "defs,\n",
    "file)\n",
    "VALUES (%s,%s,%s,%s,%s)\n",
    "\"\"\")"
   ]
  },
  {
   "cell_type": "code",
   "execution_count": 48,
   "id": "1356e095",
   "metadata": {},
   "outputs": [],
   "source": [
    "for i, row in lang_code_dataset.iterrows():\n",
    "    cur.execute(lang_code_t1_insert,list(row))"
   ]
  },
  {
   "cell_type": "code",
   "execution_count": 49,
   "id": "55a31dc7",
   "metadata": {},
   "outputs": [],
   "source": [
    "conn.commit()"
   ]
  },
  {
   "cell_type": "code",
   "execution_count": 50,
   "id": "a128cc55",
   "metadata": {},
   "outputs": [],
   "source": [
    "lang_code_t2_insert = (\"\"\"INSERT INTO language_codes_three_b_two(\n",
    "alpha_thri_b, \n",
    "alpha_two,\n",
    "English)\n",
    "VALUES (%s,%s,%s)\n",
    "\"\"\")"
   ]
  },
  {
   "cell_type": "code",
   "execution_count": 51,
   "id": "e557834b",
   "metadata": {},
   "outputs": [],
   "source": [
    "for i, row in language_codes_three_b_two.iterrows():\n",
    "    cur.execute(lang_code_t2_insert,list(row))"
   ]
  },
  {
   "cell_type": "code",
   "execution_count": 52,
   "id": "73c920a2",
   "metadata": {},
   "outputs": [],
   "source": [
    "conn.commit()"
   ]
  },
  {
   "cell_type": "code",
   "execution_count": 53,
   "id": "0ccc6481",
   "metadata": {},
   "outputs": [],
   "source": [
    "lang_code_t3_insert = (\"\"\"INSERT INTO language_codes_full(\n",
    "alpha_three_b, \n",
    "alpha_thri_t,\n",
    "alpha_two,\n",
    "English,\n",
    "French)\n",
    "VALUES (%s,%s,%s,%s,%s)\n",
    "\"\"\")"
   ]
  },
  {
   "cell_type": "code",
   "execution_count": 54,
   "id": "5e377e26",
   "metadata": {},
   "outputs": [],
   "source": [
    "for i, row in language_codes_full.iterrows():\n",
    "    cur.execute(lang_code_t3_insert,list(row))"
   ]
  },
  {
   "cell_type": "code",
   "execution_count": 55,
   "id": "1ddacdf2",
   "metadata": {},
   "outputs": [],
   "source": [
    "conn.commit()"
   ]
  },
  {
   "cell_type": "code",
   "execution_count": null,
   "id": "c99045c1",
   "metadata": {},
   "outputs": [],
   "source": []
  }
 ],
 "metadata": {
  "kernelspec": {
   "display_name": "Python 3 (ipykernel)",
   "language": "python",
   "name": "python3"
  },
  "language_info": {
   "codemirror_mode": {
    "name": "ipython",
    "version": 3
   },
   "file_extension": ".py",
   "mimetype": "text/x-python",
   "name": "python",
   "nbconvert_exporter": "python",
   "pygments_lexer": "ipython3",
   "version": "3.9.13"
  }
 },
 "nbformat": 4,
 "nbformat_minor": 5
}
